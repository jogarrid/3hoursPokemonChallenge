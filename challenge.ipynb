{
 "cells": [
  {
   "cell_type": "markdown",
   "metadata": {},
   "source": [
    "# DATA EXPLORATION"
   ]
  },
  {
   "cell_type": "code",
   "execution_count": 1,
   "metadata": {},
   "outputs": [],
   "source": [
    "import pandas as pd\n",
    "import numpy as np"
   ]
  },
  {
   "cell_type": "code",
   "execution_count": 2,
   "metadata": {},
   "outputs": [],
   "source": [
    "pokemon = pd.read_csv('pokemon.csv')\n",
    "combats = pd.read_csv('combats.csv')"
   ]
  },
  {
   "cell_type": "code",
   "execution_count": 7,
   "metadata": {},
   "outputs": [
    {
     "data": {
      "text/html": [
       "<div>\n",
       "<style scoped>\n",
       "    .dataframe tbody tr th:only-of-type {\n",
       "        vertical-align: middle;\n",
       "    }\n",
       "\n",
       "    .dataframe tbody tr th {\n",
       "        vertical-align: top;\n",
       "    }\n",
       "\n",
       "    .dataframe thead th {\n",
       "        text-align: right;\n",
       "    }\n",
       "</style>\n",
       "<table border=\"1\" class=\"dataframe\">\n",
       "  <thead>\n",
       "    <tr style=\"text-align: right;\">\n",
       "      <th></th>\n",
       "      <th>First_pokemon</th>\n",
       "      <th>Second_pokemon</th>\n",
       "      <th>Winner</th>\n",
       "    </tr>\n",
       "  </thead>\n",
       "  <tbody>\n",
       "    <tr>\n",
       "      <th>0</th>\n",
       "      <td>266</td>\n",
       "      <td>298</td>\n",
       "      <td>298</td>\n",
       "    </tr>\n",
       "    <tr>\n",
       "      <th>1</th>\n",
       "      <td>702</td>\n",
       "      <td>701</td>\n",
       "      <td>701</td>\n",
       "    </tr>\n",
       "    <tr>\n",
       "      <th>2</th>\n",
       "      <td>191</td>\n",
       "      <td>668</td>\n",
       "      <td>668</td>\n",
       "    </tr>\n",
       "  </tbody>\n",
       "</table>\n",
       "</div>"
      ],
      "text/plain": [
       "   First_pokemon  Second_pokemon  Winner\n",
       "0            266             298     298\n",
       "1            702             701     701\n",
       "2            191             668     668"
      ]
     },
     "execution_count": 7,
     "metadata": {},
     "output_type": "execute_result"
    }
   ],
   "source": [
    "combats.head(3) #doesn't make sense to use describe here"
   ]
  },
  {
   "cell_type": "code",
   "execution_count": 8,
   "metadata": {},
   "outputs": [
    {
     "data": {
      "text/html": [
       "<div>\n",
       "<style scoped>\n",
       "    .dataframe tbody tr th:only-of-type {\n",
       "        vertical-align: middle;\n",
       "    }\n",
       "\n",
       "    .dataframe tbody tr th {\n",
       "        vertical-align: top;\n",
       "    }\n",
       "\n",
       "    .dataframe thead th {\n",
       "        text-align: right;\n",
       "    }\n",
       "</style>\n",
       "<table border=\"1\" class=\"dataframe\">\n",
       "  <thead>\n",
       "    <tr style=\"text-align: right;\">\n",
       "      <th></th>\n",
       "      <th>pid</th>\n",
       "      <th>Name</th>\n",
       "      <th>Class 1</th>\n",
       "      <th>Class 2</th>\n",
       "      <th>HP</th>\n",
       "      <th>Attack</th>\n",
       "      <th>Defense</th>\n",
       "      <th>Sp. Atk</th>\n",
       "      <th>Sp. Def</th>\n",
       "      <th>Speed</th>\n",
       "      <th>Legendary</th>\n",
       "    </tr>\n",
       "  </thead>\n",
       "  <tbody>\n",
       "    <tr>\n",
       "      <th>0</th>\n",
       "      <td>1</td>\n",
       "      <td>Bulbasaur</td>\n",
       "      <td>Grass</td>\n",
       "      <td>Poison</td>\n",
       "      <td>45</td>\n",
       "      <td>49</td>\n",
       "      <td>49</td>\n",
       "      <td>65</td>\n",
       "      <td>65</td>\n",
       "      <td>45</td>\n",
       "      <td>False</td>\n",
       "    </tr>\n",
       "    <tr>\n",
       "      <th>1</th>\n",
       "      <td>2</td>\n",
       "      <td>Ivysaur</td>\n",
       "      <td>Grass</td>\n",
       "      <td>Poison</td>\n",
       "      <td>60</td>\n",
       "      <td>62</td>\n",
       "      <td>63</td>\n",
       "      <td>80</td>\n",
       "      <td>80</td>\n",
       "      <td>60</td>\n",
       "      <td>False</td>\n",
       "    </tr>\n",
       "    <tr>\n",
       "      <th>2</th>\n",
       "      <td>3</td>\n",
       "      <td>Venusaur</td>\n",
       "      <td>Grass</td>\n",
       "      <td>Poison</td>\n",
       "      <td>80</td>\n",
       "      <td>82</td>\n",
       "      <td>83</td>\n",
       "      <td>100</td>\n",
       "      <td>100</td>\n",
       "      <td>80</td>\n",
       "      <td>False</td>\n",
       "    </tr>\n",
       "  </tbody>\n",
       "</table>\n",
       "</div>"
      ],
      "text/plain": [
       "   pid       Name Class 1 Class 2  HP  Attack  Defense  Sp. Atk  Sp. Def  \\\n",
       "0    1  Bulbasaur   Grass  Poison  45      49       49       65       65   \n",
       "1    2    Ivysaur   Grass  Poison  60      62       63       80       80   \n",
       "2    3   Venusaur   Grass  Poison  80      82       83      100      100   \n",
       "\n",
       "   Speed  Legendary  \n",
       "0     45      False  \n",
       "1     60      False  \n",
       "2     80      False  "
      ]
     },
     "execution_count": 8,
     "metadata": {},
     "output_type": "execute_result"
    }
   ],
   "source": [
    "pokemon.head(3)"
   ]
  },
  {
   "cell_type": "code",
   "execution_count": 4,
   "metadata": {},
   "outputs": [
    {
     "data": {
      "text/html": [
       "<div>\n",
       "<style scoped>\n",
       "    .dataframe tbody tr th:only-of-type {\n",
       "        vertical-align: middle;\n",
       "    }\n",
       "\n",
       "    .dataframe tbody tr th {\n",
       "        vertical-align: top;\n",
       "    }\n",
       "\n",
       "    .dataframe thead th {\n",
       "        text-align: right;\n",
       "    }\n",
       "</style>\n",
       "<table border=\"1\" class=\"dataframe\">\n",
       "  <thead>\n",
       "    <tr style=\"text-align: right;\">\n",
       "      <th></th>\n",
       "      <th>pid</th>\n",
       "      <th>HP</th>\n",
       "      <th>Attack</th>\n",
       "      <th>Defense</th>\n",
       "      <th>Sp. Atk</th>\n",
       "      <th>Sp. Def</th>\n",
       "      <th>Speed</th>\n",
       "    </tr>\n",
       "  </thead>\n",
       "  <tbody>\n",
       "    <tr>\n",
       "      <th>count</th>\n",
       "      <td>800.0000</td>\n",
       "      <td>800.000000</td>\n",
       "      <td>800.000000</td>\n",
       "      <td>800.000000</td>\n",
       "      <td>800.000000</td>\n",
       "      <td>800.000000</td>\n",
       "      <td>800.000000</td>\n",
       "    </tr>\n",
       "    <tr>\n",
       "      <th>mean</th>\n",
       "      <td>400.5000</td>\n",
       "      <td>69.258750</td>\n",
       "      <td>79.001250</td>\n",
       "      <td>73.842500</td>\n",
       "      <td>72.820000</td>\n",
       "      <td>71.902500</td>\n",
       "      <td>68.277500</td>\n",
       "    </tr>\n",
       "    <tr>\n",
       "      <th>std</th>\n",
       "      <td>231.0844</td>\n",
       "      <td>25.534669</td>\n",
       "      <td>32.457366</td>\n",
       "      <td>31.183501</td>\n",
       "      <td>32.722294</td>\n",
       "      <td>27.828916</td>\n",
       "      <td>29.060474</td>\n",
       "    </tr>\n",
       "    <tr>\n",
       "      <th>min</th>\n",
       "      <td>1.0000</td>\n",
       "      <td>1.000000</td>\n",
       "      <td>5.000000</td>\n",
       "      <td>5.000000</td>\n",
       "      <td>10.000000</td>\n",
       "      <td>20.000000</td>\n",
       "      <td>5.000000</td>\n",
       "    </tr>\n",
       "    <tr>\n",
       "      <th>25%</th>\n",
       "      <td>200.7500</td>\n",
       "      <td>50.000000</td>\n",
       "      <td>55.000000</td>\n",
       "      <td>50.000000</td>\n",
       "      <td>49.750000</td>\n",
       "      <td>50.000000</td>\n",
       "      <td>45.000000</td>\n",
       "    </tr>\n",
       "    <tr>\n",
       "      <th>50%</th>\n",
       "      <td>400.5000</td>\n",
       "      <td>65.000000</td>\n",
       "      <td>75.000000</td>\n",
       "      <td>70.000000</td>\n",
       "      <td>65.000000</td>\n",
       "      <td>70.000000</td>\n",
       "      <td>65.000000</td>\n",
       "    </tr>\n",
       "    <tr>\n",
       "      <th>75%</th>\n",
       "      <td>600.2500</td>\n",
       "      <td>80.000000</td>\n",
       "      <td>100.000000</td>\n",
       "      <td>90.000000</td>\n",
       "      <td>95.000000</td>\n",
       "      <td>90.000000</td>\n",
       "      <td>90.000000</td>\n",
       "    </tr>\n",
       "    <tr>\n",
       "      <th>max</th>\n",
       "      <td>800.0000</td>\n",
       "      <td>255.000000</td>\n",
       "      <td>190.000000</td>\n",
       "      <td>230.000000</td>\n",
       "      <td>194.000000</td>\n",
       "      <td>230.000000</td>\n",
       "      <td>180.000000</td>\n",
       "    </tr>\n",
       "  </tbody>\n",
       "</table>\n",
       "</div>"
      ],
      "text/plain": [
       "            pid          HP      Attack     Defense     Sp. Atk     Sp. Def  \\\n",
       "count  800.0000  800.000000  800.000000  800.000000  800.000000  800.000000   \n",
       "mean   400.5000   69.258750   79.001250   73.842500   72.820000   71.902500   \n",
       "std    231.0844   25.534669   32.457366   31.183501   32.722294   27.828916   \n",
       "min      1.0000    1.000000    5.000000    5.000000   10.000000   20.000000   \n",
       "25%    200.7500   50.000000   55.000000   50.000000   49.750000   50.000000   \n",
       "50%    400.5000   65.000000   75.000000   70.000000   65.000000   70.000000   \n",
       "75%    600.2500   80.000000  100.000000   90.000000   95.000000   90.000000   \n",
       "max    800.0000  255.000000  190.000000  230.000000  194.000000  230.000000   \n",
       "\n",
       "            Speed  \n",
       "count  800.000000  \n",
       "mean    68.277500  \n",
       "std     29.060474  \n",
       "min      5.000000  \n",
       "25%     45.000000  \n",
       "50%     65.000000  \n",
       "75%     90.000000  \n",
       "max    180.000000  "
      ]
     },
     "execution_count": 4,
     "metadata": {},
     "output_type": "execute_result"
    }
   ],
   "source": [
    "pokemon.describe()"
   ]
  },
  {
   "cell_type": "raw",
   "metadata": {},
   "source": [
    "#Is there a relationship between regular attack and regular defence? -> Yes, pokemons with strong regular attack likely to have strong regular defense."
   ]
  },
  {
   "cell_type": "code",
   "execution_count": 11,
   "metadata": {},
   "outputs": [],
   "source": [
    "import matplotlib.pyplot as plt"
   ]
  },
  {
   "cell_type": "code",
   "execution_count": 13,
   "metadata": {},
   "outputs": [
    {
     "data": {
      "text/plain": [
       "Text(0, 0.5, 'Regular Defense')"
      ]
     },
     "execution_count": 13,
     "metadata": {},
     "output_type": "execute_result"
    },
    {
     "data": {
      "image/png": "[encoded data removed]",
      "text/plain": [
       "<Figure size 432x288 with 1 Axes>"
      ]
     },
     "metadata": {
      "needs_background": "light"
     },
     "output_type": "display_data"
    }
   ],
   "source": [
    "plt.scatter(pokemon.Attack, pokemon.Defense)\n",
    "plt.xlabel('Regular Attack')\n",
    "plt.ylabel('Regular Defense')"
   ]
  },
  {
   "cell_type": "raw",
   "metadata": {},
   "source": [
    "The pokemons with the highest and lowest attack / defense ratio are, respectively:"
   ]
  },
  {
   "cell_type": "code",
   "execution_count": 3,
   "metadata": {},
   "outputs": [
    {
     "data": {
      "text/html": [
       "<div>\n",
       "<style scoped>\n",
       "    .dataframe tbody tr th:only-of-type {\n",
       "        vertical-align: middle;\n",
       "    }\n",
       "\n",
       "    .dataframe tbody tr th {\n",
       "        vertical-align: top;\n",
       "    }\n",
       "\n",
       "    .dataframe thead th {\n",
       "        text-align: right;\n",
       "    }\n",
       "</style>\n",
       "<table border=\"1\" class=\"dataframe\">\n",
       "  <thead>\n",
       "    <tr style=\"text-align: right;\">\n",
       "      <th></th>\n",
       "      <th>pid</th>\n",
       "      <th>Name</th>\n",
       "      <th>Class 1</th>\n",
       "      <th>Class 2</th>\n",
       "      <th>HP</th>\n",
       "      <th>Attack</th>\n",
       "      <th>Defense</th>\n",
       "      <th>Sp. Atk</th>\n",
       "      <th>Sp. Def</th>\n",
       "      <th>Speed</th>\n",
       "      <th>Legendary</th>\n",
       "      <th>ratio</th>\n",
       "    </tr>\n",
       "  </thead>\n",
       "  <tbody>\n",
       "    <tr>\n",
       "      <th>429</th>\n",
       "      <td>430</td>\n",
       "      <td>DeoxysAttack Forme</td>\n",
       "      <td>Psychic</td>\n",
       "      <td>NaN</td>\n",
       "      <td>50</td>\n",
       "      <td>180</td>\n",
       "      <td>20</td>\n",
       "      <td>180</td>\n",
       "      <td>20</td>\n",
       "      <td>150</td>\n",
       "      <td>True</td>\n",
       "      <td>9.00</td>\n",
       "    </tr>\n",
       "    <tr>\n",
       "      <th>347</th>\n",
       "      <td>348</td>\n",
       "      <td>Carvanha</td>\n",
       "      <td>Water</td>\n",
       "      <td>Dark</td>\n",
       "      <td>45</td>\n",
       "      <td>90</td>\n",
       "      <td>20</td>\n",
       "      <td>65</td>\n",
       "      <td>20</td>\n",
       "      <td>65</td>\n",
       "      <td>False</td>\n",
       "      <td>4.50</td>\n",
       "    </tr>\n",
       "    <tr>\n",
       "      <th>19</th>\n",
       "      <td>20</td>\n",
       "      <td>Mega Beedrill</td>\n",
       "      <td>Bug</td>\n",
       "      <td>Poison</td>\n",
       "      <td>65</td>\n",
       "      <td>150</td>\n",
       "      <td>40</td>\n",
       "      <td>15</td>\n",
       "      <td>80</td>\n",
       "      <td>145</td>\n",
       "      <td>False</td>\n",
       "      <td>3.75</td>\n",
       "    </tr>\n",
       "  </tbody>\n",
       "</table>\n",
       "</div>"
      ],
      "text/plain": [
       "     pid                Name  Class 1 Class 2  HP  Attack  Defense  Sp. Atk  \\\n",
       "429  430  DeoxysAttack Forme  Psychic     NaN  50     180       20      180   \n",
       "347  348            Carvanha    Water    Dark  45      90       20       65   \n",
       "19    20       Mega Beedrill      Bug  Poison  65     150       40       15   \n",
       "\n",
       "     Sp. Def  Speed  Legendary  ratio  \n",
       "429       20    150       True   9.00  \n",
       "347       20     65      False   4.50  \n",
       "19        80    145      False   3.75  "
      ]
     },
     "execution_count": 3,
     "metadata": {},
     "output_type": "execute_result"
    }
   ],
   "source": [
    "pokemon['ratio'] = pokemon.Attack/pokemon.Defense\n",
    "pokemon.loc[pokemon.ratio.argsort()[-1:-4:-1]]"
   ]
  },
  {
   "cell_type": "code",
   "execution_count": 23,
   "metadata": {},
   "outputs": [
    {
     "data": {
      "text/html": [
       "<div>\n",
       "<style scoped>\n",
       "    .dataframe tbody tr th:only-of-type {\n",
       "        vertical-align: middle;\n",
       "    }\n",
       "\n",
       "    .dataframe tbody tr th {\n",
       "        vertical-align: top;\n",
       "    }\n",
       "\n",
       "    .dataframe thead th {\n",
       "        text-align: right;\n",
       "    }\n",
       "</style>\n",
       "<table border=\"1\" class=\"dataframe\">\n",
       "  <thead>\n",
       "    <tr style=\"text-align: right;\">\n",
       "      <th></th>\n",
       "      <th>pid</th>\n",
       "      <th>Name</th>\n",
       "      <th>Class 1</th>\n",
       "      <th>Class 2</th>\n",
       "      <th>HP</th>\n",
       "      <th>Attack</th>\n",
       "      <th>Defense</th>\n",
       "      <th>Sp. Atk</th>\n",
       "      <th>Sp. Def</th>\n",
       "      <th>Speed</th>\n",
       "      <th>Legendary</th>\n",
       "      <th>ratio</th>\n",
       "    </tr>\n",
       "  </thead>\n",
       "  <tbody>\n",
       "    <tr>\n",
       "      <th>230</th>\n",
       "      <td>231</td>\n",
       "      <td>Shuckle</td>\n",
       "      <td>Bug</td>\n",
       "      <td>Rock</td>\n",
       "      <td>20</td>\n",
       "      <td>10</td>\n",
       "      <td>230</td>\n",
       "      <td>10</td>\n",
       "      <td>230</td>\n",
       "      <td>5</td>\n",
       "      <td>False</td>\n",
       "      <td>0.043478</td>\n",
       "    </tr>\n",
       "    <tr>\n",
       "      <th>139</th>\n",
       "      <td>140</td>\n",
       "      <td>Magikarp</td>\n",
       "      <td>Water</td>\n",
       "      <td>NaN</td>\n",
       "      <td>20</td>\n",
       "      <td>10</td>\n",
       "      <td>55</td>\n",
       "      <td>15</td>\n",
       "      <td>20</td>\n",
       "      <td>80</td>\n",
       "      <td>False</td>\n",
       "      <td>0.181818</td>\n",
       "    </tr>\n",
       "    <tr>\n",
       "      <th>484</th>\n",
       "      <td>485</td>\n",
       "      <td>Bronzor</td>\n",
       "      <td>Steel</td>\n",
       "      <td>Psychic</td>\n",
       "      <td>57</td>\n",
       "      <td>24</td>\n",
       "      <td>86</td>\n",
       "      <td>24</td>\n",
       "      <td>86</td>\n",
       "      <td>23</td>\n",
       "      <td>False</td>\n",
       "      <td>0.279070</td>\n",
       "    </tr>\n",
       "    <tr>\n",
       "      <th>103</th>\n",
       "      <td>104</td>\n",
       "      <td>Onix</td>\n",
       "      <td>Rock</td>\n",
       "      <td>Ground</td>\n",
       "      <td>35</td>\n",
       "      <td>45</td>\n",
       "      <td>160</td>\n",
       "      <td>30</td>\n",
       "      <td>45</td>\n",
       "      <td>70</td>\n",
       "      <td>False</td>\n",
       "      <td>0.281250</td>\n",
       "    </tr>\n",
       "  </tbody>\n",
       "</table>\n",
       "</div>"
      ],
      "text/plain": [
       "     pid      Name Class 1  Class 2  HP  Attack  Defense  Sp. Atk  Sp. Def  \\\n",
       "230  231   Shuckle     Bug     Rock  20      10      230       10      230   \n",
       "139  140  Magikarp   Water      NaN  20      10       55       15       20   \n",
       "484  485   Bronzor   Steel  Psychic  57      24       86       24       86   \n",
       "103  104      Onix    Rock   Ground  35      45      160       30       45   \n",
       "\n",
       "     Speed  Legendary     ratio  \n",
       "230      5      False  0.043478  \n",
       "139     80      False  0.181818  \n",
       "484     23      False  0.279070  \n",
       "103     70      False  0.281250  "
      ]
     },
     "execution_count": 23,
     "metadata": {},
     "output_type": "execute_result"
    }
   ],
   "source": [
    "pokemon.loc[pokemon.ratio.argsort()[0:4]]"
   ]
  },
  {
   "cell_type": "raw",
   "metadata": {},
   "source": [
    "Number of victories of pokemons: "
   ]
  },
  {
   "cell_type": "code",
   "execution_count": 48,
   "metadata": {},
   "outputs": [
    {
     "data": {
      "text/plain": [
       "783"
      ]
     },
     "execution_count": 48,
     "metadata": {},
     "output_type": "execute_result"
    }
   ],
   "source": [
    "value_counts = combats.Winner.value_counts()\n",
    "len(value_counts) # "
   ]
  },
  {
   "cell_type": "code",
   "execution_count": 60,
   "metadata": {},
   "outputs": [
    {
     "data": {
      "text/plain": [
       "Int64Index([3, 4], dtype='int64')"
      ]
     },
     "execution_count": 60,
     "metadata": {},
     "output_type": "execute_result"
    }
   ],
   "source": [
    "pd.Series([1,3,3,3,3,42,4,4,4,4,2]).value_counts().sort_values().index[-1:-3:-1]"
   ]
  },
  {
   "cell_type": "code",
   "execution_count": 61,
   "metadata": {},
   "outputs": [
    {
     "data": {
      "text/html": [
       "<div>\n",
       "<style scoped>\n",
       "    .dataframe tbody tr th:only-of-type {\n",
       "        vertical-align: middle;\n",
       "    }\n",
       "\n",
       "    .dataframe tbody tr th {\n",
       "        vertical-align: top;\n",
       "    }\n",
       "\n",
       "    .dataframe thead th {\n",
       "        text-align: right;\n",
       "    }\n",
       "</style>\n",
       "<table border=\"1\" class=\"dataframe\">\n",
       "  <thead>\n",
       "    <tr style=\"text-align: right;\">\n",
       "      <th></th>\n",
       "      <th>Name</th>\n",
       "      <th>Class 1</th>\n",
       "      <th>Class 2</th>\n",
       "      <th>HP</th>\n",
       "      <th>Attack</th>\n",
       "      <th>Defense</th>\n",
       "      <th>Sp. Atk</th>\n",
       "      <th>Sp. Def</th>\n",
       "      <th>Speed</th>\n",
       "      <th>Legendary</th>\n",
       "      <th>ratio</th>\n",
       "    </tr>\n",
       "  </thead>\n",
       "  <tbody>\n",
       "    <tr>\n",
       "      <th>163</th>\n",
       "      <td>Mewtwo</td>\n",
       "      <td>Psychic</td>\n",
       "      <td>NaN</td>\n",
       "      <td>106</td>\n",
       "      <td>110</td>\n",
       "      <td>90</td>\n",
       "      <td>154</td>\n",
       "      <td>90</td>\n",
       "      <td>130</td>\n",
       "      <td>True</td>\n",
       "      <td>1.222222</td>\n",
       "    </tr>\n",
       "    <tr>\n",
       "      <th>154</th>\n",
       "      <td>Aerodactyl</td>\n",
       "      <td>Rock</td>\n",
       "      <td>Flying</td>\n",
       "      <td>80</td>\n",
       "      <td>105</td>\n",
       "      <td>65</td>\n",
       "      <td>60</td>\n",
       "      <td>75</td>\n",
       "      <td>130</td>\n",
       "      <td>False</td>\n",
       "      <td>1.615385</td>\n",
       "    </tr>\n",
       "    <tr>\n",
       "      <th>438</th>\n",
       "      <td>Infernape</td>\n",
       "      <td>Fire</td>\n",
       "      <td>Fighting</td>\n",
       "      <td>76</td>\n",
       "      <td>104</td>\n",
       "      <td>71</td>\n",
       "      <td>104</td>\n",
       "      <td>71</td>\n",
       "      <td>108</td>\n",
       "      <td>False</td>\n",
       "      <td>1.464789</td>\n",
       "    </tr>\n",
       "    <tr>\n",
       "      <th>428</th>\n",
       "      <td>Jirachi</td>\n",
       "      <td>Steel</td>\n",
       "      <td>Psychic</td>\n",
       "      <td>100</td>\n",
       "      <td>100</td>\n",
       "      <td>100</td>\n",
       "      <td>100</td>\n",
       "      <td>100</td>\n",
       "      <td>100</td>\n",
       "      <td>True</td>\n",
       "      <td>1.000000</td>\n",
       "    </tr>\n",
       "    <tr>\n",
       "      <th>432</th>\n",
       "      <td>Deoxys Speed Forme</td>\n",
       "      <td>Psychic</td>\n",
       "      <td>NaN</td>\n",
       "      <td>50</td>\n",
       "      <td>95</td>\n",
       "      <td>90</td>\n",
       "      <td>95</td>\n",
       "      <td>90</td>\n",
       "      <td>180</td>\n",
       "      <td>True</td>\n",
       "      <td>1.055556</td>\n",
       "    </tr>\n",
       "    <tr>\n",
       "      <th>314</th>\n",
       "      <td>Slaking</td>\n",
       "      <td>Normal</td>\n",
       "      <td>NaN</td>\n",
       "      <td>150</td>\n",
       "      <td>160</td>\n",
       "      <td>100</td>\n",
       "      <td>95</td>\n",
       "      <td>65</td>\n",
       "      <td>100</td>\n",
       "      <td>False</td>\n",
       "      <td>1.600000</td>\n",
       "    </tr>\n",
       "    <tr>\n",
       "      <th>214</th>\n",
       "      <td>Murkrow</td>\n",
       "      <td>Dark</td>\n",
       "      <td>Flying</td>\n",
       "      <td>60</td>\n",
       "      <td>85</td>\n",
       "      <td>42</td>\n",
       "      <td>85</td>\n",
       "      <td>42</td>\n",
       "      <td>91</td>\n",
       "      <td>False</td>\n",
       "      <td>2.023810</td>\n",
       "    </tr>\n",
       "    <tr>\n",
       "      <th>394</th>\n",
       "      <td>Mega Absol</td>\n",
       "      <td>Dark</td>\n",
       "      <td>NaN</td>\n",
       "      <td>65</td>\n",
       "      <td>150</td>\n",
       "      <td>60</td>\n",
       "      <td>115</td>\n",
       "      <td>60</td>\n",
       "      <td>115</td>\n",
       "      <td>False</td>\n",
       "      <td>2.500000</td>\n",
       "    </tr>\n",
       "    <tr>\n",
       "      <th>249</th>\n",
       "      <td>Mega Houndoom</td>\n",
       "      <td>Dark</td>\n",
       "      <td>Fire</td>\n",
       "      <td>75</td>\n",
       "      <td>90</td>\n",
       "      <td>90</td>\n",
       "      <td>140</td>\n",
       "      <td>90</td>\n",
       "      <td>115</td>\n",
       "      <td>False</td>\n",
       "      <td>1.000000</td>\n",
       "    </tr>\n",
       "    <tr>\n",
       "      <th>427</th>\n",
       "      <td>Mega Rayquaza</td>\n",
       "      <td>Dragon</td>\n",
       "      <td>Flying</td>\n",
       "      <td>105</td>\n",
       "      <td>180</td>\n",
       "      <td>100</td>\n",
       "      <td>180</td>\n",
       "      <td>100</td>\n",
       "      <td>115</td>\n",
       "      <td>True</td>\n",
       "      <td>1.800000</td>\n",
       "    </tr>\n",
       "  </tbody>\n",
       "</table>\n",
       "</div>"
      ],
      "text/plain": [
       "                   Name  Class 1   Class 2   HP  Attack  Defense  Sp. Atk  \\\n",
       "163              Mewtwo  Psychic       NaN  106     110       90      154   \n",
       "154          Aerodactyl     Rock    Flying   80     105       65       60   \n",
       "438           Infernape     Fire  Fighting   76     104       71      104   \n",
       "428             Jirachi    Steel   Psychic  100     100      100      100   \n",
       "432  Deoxys Speed Forme  Psychic       NaN   50      95       90       95   \n",
       "314             Slaking   Normal       NaN  150     160      100       95   \n",
       "214             Murkrow     Dark    Flying   60      85       42       85   \n",
       "394          Mega Absol     Dark       NaN   65     150       60      115   \n",
       "249       Mega Houndoom     Dark      Fire   75      90       90      140   \n",
       "427       Mega Rayquaza   Dragon    Flying  105     180      100      180   \n",
       "\n",
       "     Sp. Def  Speed  Legendary     ratio  \n",
       "163       90    130       True  1.222222  \n",
       "154       75    130      False  1.615385  \n",
       "438       71    108      False  1.464789  \n",
       "428      100    100       True  1.000000  \n",
       "432       90    180       True  1.055556  \n",
       "314       65    100      False  1.600000  \n",
       "214       42     91      False  2.023810  \n",
       "394       60    115      False  2.500000  \n",
       "249       90    115      False  1.000000  \n",
       "427      100    115       True  1.800000  "
      ]
     },
     "execution_count": 61,
     "metadata": {},
     "output_type": "execute_result"
    }
   ],
   "source": [
    "#The ten pokemon with the highest number of victories are:\n",
    "pokemon.loc[value_counts.sort_values().index[-1:-11:-1]]"
   ]
  },
  {
   "cell_type": "raw",
   "metadata": {},
   "source": [
    "Compare regular attack strength of grass pokemons as opposed to rock pokemons (use box plot). Grass pokemons have a less strong regular attack."
   ]
  },
  {
   "cell_type": "code",
   "execution_count": 74,
   "metadata": {},
   "outputs": [
    {
     "data": {
      "text/plain": [
       "25"
      ]
     },
     "execution_count": 74,
     "metadata": {},
     "output_type": "execute_result"
    }
   ],
   "source": [
    "sum(pokemon['Class 2'] == 'Grass')"
   ]
  },
  {
   "cell_type": "code",
   "execution_count": 67,
   "metadata": {},
   "outputs": [
    {
     "data": {
      "text/plain": [
       "70"
      ]
     },
     "execution_count": 67,
     "metadata": {},
     "output_type": "execute_result"
    }
   ],
   "source": [
    "sum(pokemon['Class 1'] == 'Grass')"
   ]
  },
  {
   "cell_type": "code",
   "execution_count": 75,
   "metadata": {},
   "outputs": [],
   "source": [
    "pokemon_grass = pokemon.loc[lambda df: (df['Class 1'] == 'Grass') | (df['Class 2'] == 'Grass')]\n",
    "pokemon_rock = pokemon.loc[lambda df: (df['Class 1'] == 'Rock') | (df['Class 2'] == 'Rock')]"
   ]
  },
  {
   "cell_type": "code",
   "execution_count": 73,
   "metadata": {},
   "outputs": [
    {
     "data": {
      "text/plain": [
       "95"
      ]
     },
     "execution_count": 73,
     "metadata": {},
     "output_type": "execute_result"
    }
   ],
   "source": [
    "len(pokemon_grass)"
   ]
  },
  {
   "cell_type": "code",
   "execution_count": 94,
   "metadata": {},
   "outputs": [
    {
     "data": {
      "text/plain": [
       "{'whiskers': [<matplotlib.lines.Line2D at 0x7f76e49e1550>,\n",
       "  <matplotlib.lines.Line2D at 0x7f76e49e1898>],\n",
       " 'caps': [<matplotlib.lines.Line2D at 0x7f76e49e1be0>,\n",
       "  <matplotlib.lines.Line2D at 0x7f76e49e1f28>],\n",
       " 'boxes': [<matplotlib.lines.Line2D at 0x7f76e49e1208>],\n",
       " 'medians': [<matplotlib.lines.Line2D at 0x7f76e49ec2b0>],\n",
       " 'fliers': [<matplotlib.lines.Line2D at 0x7f76e49ec5f8>],\n",
       " 'means': []}"
      ]
     },
     "execution_count": 94,
     "metadata": {},
     "output_type": "execute_result"
    },
    {
     "data": {
      "image/png": "[encoded data removed]",
      "text/plain": [
       "<Figure size 432x288 with 2 Axes>"
      ]
     },
     "metadata": {
      "needs_background": "light"
     },
     "output_type": "display_data"
    }
   ],
   "source": [
    "plt.subplot(121)\n",
    "\n",
    "ax1=plt.subplot(1,2, 1)\n",
    "\n",
    "ax2=plt.subplot(1,2,2)\n",
    "ax2.set(ylim = [0, 170])\n",
    "ax1.set(ylim = [0, 170])\n",
    "\n",
    "ax1.boxplot(pokemon_grass.Attack)\n",
    "\n",
    "ax2.boxplot(pokemon_rock.Attack)\n"
   ]
  },
  {
   "cell_type": "code",
   "execution_count": 95,
   "metadata": {},
   "outputs": [
    {
     "data": {
      "text/plain": [
       "count     58.000000\n",
       "mean      90.724138\n",
       "std       34.857501\n",
       "min       10.000000\n",
       "25%       61.000000\n",
       "50%       90.000000\n",
       "75%      114.250000\n",
       "max      165.000000\n",
       "Name: Attack, dtype: float64"
      ]
     },
     "execution_count": 95,
     "metadata": {},
     "output_type": "execute_result"
    }
   ],
   "source": [
    "pokemon_rock.Attack.describe()"
   ]
  },
  {
   "cell_type": "code",
   "execution_count": 97,
   "metadata": {},
   "outputs": [
    {
     "data": {
      "text/plain": [
       "count     95.000000\n",
       "mean      73.463158\n",
       "std       24.168210\n",
       "min       27.000000\n",
       "25%       57.000000\n",
       "50%       70.000000\n",
       "75%       94.500000\n",
       "max      132.000000\n",
       "Name: Attack, dtype: float64"
      ]
     },
     "execution_count": 97,
     "metadata": {},
     "output_type": "execute_result"
    }
   ],
   "source": [
    "pokemon_grass.Attack.describe()"
   ]
  },
  {
   "cell_type": "raw",
   "metadata": {},
   "source": [
    "Generate training set:\n",
    "To generate the training set, we convert categorical features to one hot encoding. \n",
    "First, for each pokemon, we generate a vector representing it"
   ]
  },
  {
   "cell_type": "code",
   "execution_count": 6,
   "metadata": {},
   "outputs": [],
   "source": [
    "pokemon['ratios'] = pokemon['Sp. Atk']/pokemon['Sp. Def']"
   ]
  },
  {
   "cell_type": "code",
   "execution_count": 101,
   "metadata": {},
   "outputs": [
    {
     "data": {
      "text/plain": [
       "12"
      ]
     },
     "execution_count": 101,
     "metadata": {},
     "output_type": "execute_result"
    }
   ],
   "source": [
    "len(pokemon.columns)"
   ]
  },
  {
   "cell_type": "code",
   "execution_count": 108,
   "metadata": {},
   "outputs": [
    {
     "data": {
      "text/plain": [
       "49"
      ]
     },
     "execution_count": 108,
     "metadata": {},
     "output_type": "execute_result"
    }
   ],
   "source": [
    "pok[1]['Attack']"
   ]
  },
  {
   "cell_type": "code",
   "execution_count": 8,
   "metadata": {},
   "outputs": [],
   "source": [
    "#How many classes do we have?\n",
    "classes = pd.concat([pokemon['Class 1'],pokemon['Class 2']]).unique()"
   ]
  },
  {
   "cell_type": "code",
   "execution_count": 110,
   "metadata": {},
   "outputs": [
    {
     "data": {
      "text/plain": [
       "array(['Grass', 'Fire', 'Water', 'Bug', 'Normal', 'Poison', 'Electric',\n",
       "       'Ground', 'Fairy', 'Fighting', 'Psychic', 'Rock', 'Ghost', 'Ice',\n",
       "       'Dragon', 'Dark', 'Steel', 'Flying', nan], dtype=object)"
      ]
     },
     "execution_count": 110,
     "metadata": {},
     "output_type": "execute_result"
    }
   ],
   "source": [
    "classes"
   ]
  },
  {
   "cell_type": "code",
   "execution_count": 5,
   "metadata": {},
   "outputs": [
    {
     "data": {
      "text/plain": [
       "Index(['pid', 'Name', 'Class 1', 'Class 2', 'HP', 'Attack', 'Defense',\n",
       "       'Sp. Atk', 'Sp. Def', 'Speed', 'Legendary', 'ratio'],\n",
       "      dtype='object')"
      ]
     },
     "execution_count": 5,
     "metadata": {},
     "output_type": "execute_result"
    }
   ],
   "source": [
    "pokemon.columns"
   ]
  },
  {
   "cell_type": "code",
   "execution_count": 110,
   "metadata": {},
   "outputs": [],
   "source": [
    "features = cols\n",
    "features.append('Legendary')\n",
    "for c in classes:\n",
    "    features.append(c)"
   ]
  },
  {
   "cell_type": "code",
   "execution_count": 142,
   "metadata": {},
   "outputs": [
    {
     "data": {
      "text/plain": [
       "['HP', 'Attack', 'Defense', 'Sp. Atk', 'Sp. Def', 'Speed', 'ratio', 'ratios']"
      ]
     },
     "execution_count": 142,
     "metadata": {},
     "output_type": "execute_result"
    }
   ],
   "source": [
    "cols"
   ]
  },
  {
   "cell_type": "code",
   "execution_count": 78,
   "metadata": {},
   "outputs": [
    {
     "name": "stderr",
     "output_type": "stream",
     "text": [
      "/ivrldata1/home/jose/.conda/envs/venv3/lib/python3.6/site-packages/ipykernel_launcher.py:27: SettingWithCopyWarning: \n",
      "A value is trying to be set on a copy of a slice from a DataFrame\n",
      "\n",
      "See the caveats in the documentation: http://pandas.pydata.org/pandas-docs/stable/indexing.html#indexing-view-versus-copy\n"
     ]
    }
   ],
   "source": [
    "vecs = []\n",
    "cols = list(pokemon.columns[4:10])\n",
    "cols.append(pokemon.columns[11])\n",
    "cols.append(pokemon.columns[12])\n",
    "pokemon['vec'] = None\n",
    "for pok in pokemon.iterrows(): #TODO: more efficient way to do this with dataframe aggregation\n",
    "    vec = [pok[1][col] for col in cols] \n",
    "    \n",
    "    #Add categorical features\n",
    "    if pok[1]['Legendary']:\n",
    "        vec.append(1) \n",
    "        vec.append(0)\n",
    "        \n",
    "    else:\n",
    "        vec.append(0) \n",
    "        vec.append(1) \n",
    "    \n",
    "    #one hot encoding\n",
    "    for c in classes:\n",
    "        if(pok[1]['Class 1'] == c  or pok[1]['Class 2'] == c):\n",
    "            vec.append(1)\n",
    "            \n",
    "        else:\n",
    "            vec.append(0)\n",
    "            \n",
    "    pokemon.vec[pok[0]] = vec\n"
   ]
  },
  {
   "cell_type": "markdown",
   "metadata": {},
   "source": [
    "# Build the training set"
   ]
  },
  {
   "cell_type": "code",
   "execution_count": 79,
   "metadata": {},
   "outputs": [],
   "source": [
    "merged = combats.merge(pokemon, left_on = ['First_pokemon'], right_on = 'pid').merge(pokemon, left_on = ['Second_pokemon'], right_on = 'pid')"
   ]
  },
  {
   "cell_type": "code",
   "execution_count": 16,
   "metadata": {},
   "outputs": [
    {
     "data": {
      "text/html": [
       "<div>\n",
       "<style scoped>\n",
       "    .dataframe tbody tr th:only-of-type {\n",
       "        vertical-align: middle;\n",
       "    }\n",
       "\n",
       "    .dataframe tbody tr th {\n",
       "        vertical-align: top;\n",
       "    }\n",
       "\n",
       "    .dataframe thead th {\n",
       "        text-align: right;\n",
       "    }\n",
       "</style>\n",
       "<table border=\"1\" class=\"dataframe\">\n",
       "  <thead>\n",
       "    <tr style=\"text-align: right;\">\n",
       "      <th></th>\n",
       "      <th>First_pokemon</th>\n",
       "      <th>Second_pokemon</th>\n",
       "      <th>Winner</th>\n",
       "      <th>pid_x</th>\n",
       "      <th>Name_x</th>\n",
       "      <th>Class 1_x</th>\n",
       "      <th>Class 2_x</th>\n",
       "      <th>HP_x</th>\n",
       "      <th>Attack_x</th>\n",
       "      <th>Defense_x</th>\n",
       "      <th>...</th>\n",
       "      <th>HP_y</th>\n",
       "      <th>Attack_y</th>\n",
       "      <th>Defense_y</th>\n",
       "      <th>Sp. Atk_y</th>\n",
       "      <th>Sp. Def_y</th>\n",
       "      <th>Speed_y</th>\n",
       "      <th>Legendary_y</th>\n",
       "      <th>ratio_y</th>\n",
       "      <th>ratios_y</th>\n",
       "      <th>vec_y</th>\n",
       "    </tr>\n",
       "  </thead>\n",
       "  <tbody>\n",
       "    <tr>\n",
       "      <th>0</th>\n",
       "      <td>266</td>\n",
       "      <td>298</td>\n",
       "      <td>298</td>\n",
       "      <td>266</td>\n",
       "      <td>Larvitar</td>\n",
       "      <td>Rock</td>\n",
       "      <td>Ground</td>\n",
       "      <td>50</td>\n",
       "      <td>64</td>\n",
       "      <td>50</td>\n",
       "      <td>...</td>\n",
       "      <td>70</td>\n",
       "      <td>70</td>\n",
       "      <td>40</td>\n",
       "      <td>60</td>\n",
       "      <td>40</td>\n",
       "      <td>60</td>\n",
       "      <td>False</td>\n",
       "      <td>1.75</td>\n",
       "      <td>1.5</td>\n",
       "      <td>[70, 70, 40, 60, 40, 60, 1.75, 1.5, 0, 1, 0, 0...</td>\n",
       "    </tr>\n",
       "  </tbody>\n",
       "</table>\n",
       "<p>1 rows × 31 columns</p>\n",
       "</div>"
      ],
      "text/plain": [
       "   First_pokemon  Second_pokemon  Winner  pid_x    Name_x Class 1_x Class 2_x  \\\n",
       "0            266             298     298    266  Larvitar      Rock    Ground   \n",
       "\n",
       "   HP_x  Attack_x  Defense_x  ...  HP_y  Attack_y  Defense_y  Sp. Atk_y  \\\n",
       "0    50        64         50  ...    70        70         40         60   \n",
       "\n",
       "   Sp. Def_y  Speed_y Legendary_y  ratio_y ratios_y  \\\n",
       "0         40       60       False     1.75      1.5   \n",
       "\n",
       "                                               vec_y  \n",
       "0  [70, 70, 40, 60, 40, 60, 1.75, 1.5, 0, 1, 0, 0...  \n",
       "\n",
       "[1 rows x 31 columns]"
      ]
     },
     "execution_count": 16,
     "metadata": {},
     "output_type": "execute_result"
    }
   ],
   "source": [
    "merged.head(1)"
   ]
  },
  {
   "cell_type": "code",
   "execution_count": 26,
   "metadata": {},
   "outputs": [],
   "source": [
    "from sklearn.ensemble import RandomForestClassifier\n",
    "from sklearn.naive_bayes import GaussianNB"
   ]
  },
  {
   "cell_type": "code",
   "execution_count": 76,
   "metadata": {},
   "outputs": [],
   "source": [
    "from sklearn import svm"
   ]
  },
  {
   "cell_type": "code",
   "execution_count": 27,
   "metadata": {},
   "outputs": [],
   "source": [
    "from sklearn.model_selection import train_test_split\n",
    "from sklearn.metrics import accuracy_score"
   ]
  },
  {
   "cell_type": "code",
   "execution_count": 80,
   "metadata": {},
   "outputs": [],
   "source": [
    "#TODO more feature expansion here\n",
    "merged['vec_total'] = merged.vec_x + merged.vec_y"
   ]
  },
  {
   "cell_type": "code",
   "execution_count": 81,
   "metadata": {},
   "outputs": [],
   "source": [
    "merged['label'] = merged.pid_x == merged.Winner"
   ]
  },
  {
   "cell_type": "code",
   "execution_count": 82,
   "metadata": {},
   "outputs": [],
   "source": [
    "X = merged.vec_total\n",
    "y = merged.label"
   ]
  },
  {
   "cell_type": "code",
   "execution_count": 156,
   "metadata": {},
   "outputs": [],
   "source": [
    "X_train, X_test, y_train, y_test = train_test_split(X, y, test_size=0.3, random_state=42)\n",
    "X_train = list(X_train)\n",
    "X_test = list(X_test)"
   ]
  },
  {
   "cell_type": "code",
   "execution_count": 86,
   "metadata": {},
   "outputs": [
    {
     "data": {
      "text/plain": [
       "GaussianNB(priors=None, var_smoothing=1e-09)"
      ]
     },
     "execution_count": 86,
     "metadata": {},
     "output_type": "execute_result"
    }
   ],
   "source": [
    "#Train naive Bayes\n",
    "gnb = GaussianNB()\n",
    "gnb.fit(X_train, y_train)"
   ]
  },
  {
   "cell_type": "code",
   "execution_count": 223,
   "metadata": {},
   "outputs": [],
   "source": [
    "predictions = gnb.predict(X_test)\n",
    "X_train = list(X_train)\n",
    "X_test = list(X_test)"
   ]
  },
  {
   "cell_type": "code",
   "execution_count": 224,
   "metadata": {},
   "outputs": [
    {
     "data": {
      "text/plain": [
       "0.7367333333333334"
      ]
     },
     "execution_count": 224,
     "metadata": {},
     "output_type": "execute_result"
    }
   ],
   "source": [
    "accuracy_score(y_test, predictions)"
   ]
  },
  {
   "cell_type": "code",
   "execution_count": 89,
   "metadata": {},
   "outputs": [
    {
     "name": "stderr",
     "output_type": "stream",
     "text": [
      "/ivrldata1/home/jose/.conda/envs/venv3/lib/python3.6/site-packages/sklearn/ensemble/forest.py:246: FutureWarning: The default value of n_estimators will change from 10 in version 0.20 to 100 in 0.22.\n",
      "  \"10 in version 0.20 to 100 in 0.22.\", FutureWarning)\n"
     ]
    },
    {
     "data": {
      "text/plain": [
       "0.9234"
      ]
     },
     "execution_count": 89,
     "metadata": {},
     "output_type": "execute_result"
    }
   ],
   "source": [
    "#Let's train a random forrest classifier. Wooooooooooow a random forrest gets a much better accuracy!\n",
    "rf = RandomForestClassifier()\n",
    "\n",
    "rf.fit(X_train, y_train)\n",
    "\n",
    "accuracy_score(y_test, rf.predict(X_test))"
   ]
  },
  {
   "cell_type": "code",
   "execution_count": null,
   "metadata": {},
   "outputs": [],
   "source": [
    "#support vector machines\n",
    "clf = svm.SVC(gamma='scale')\n",
    "clf.fit(X_train, y_train) \n"
   ]
  },
  {
   "cell_type": "code",
   "execution_count": 94,
   "metadata": {},
   "outputs": [
    {
     "data": {
      "text/plain": [
       "0.9096666666666666"
      ]
     },
     "execution_count": 94,
     "metadata": {},
     "output_type": "execute_result"
    }
   ],
   "source": [
    "#Let's see the importance of some features\n",
    "accuracy_score(y_test,clf.predict(X_test))"
   ]
  },
  {
   "cell_type": "code",
   "execution_count": 92,
   "metadata": {},
   "outputs": [],
   "source": [
    "from sklearn.ensemble import GradientBoostingClassifier\n",
    "gbc = GradientBoostingClassifier()"
   ]
  },
  {
   "cell_type": "code",
   "execution_count": 93,
   "metadata": {},
   "outputs": [
    {
     "data": {
      "text/plain": [
       "GradientBoostingClassifier(criterion='friedman_mse', init=None,\n",
       "              learning_rate=0.1, loss='deviance', max_depth=3,\n",
       "              max_features=None, max_leaf_nodes=None,\n",
       "              min_impurity_decrease=0.0, min_impurity_split=None,\n",
       "              min_samples_leaf=1, min_samples_split=2,\n",
       "              min_weight_fraction_leaf=0.0, n_estimators=100,\n",
       "              n_iter_no_change=None, presort='auto', random_state=None,\n",
       "              subsample=1.0, tol=0.0001, validation_fraction=0.1,\n",
       "              verbose=0, warm_start=False)"
      ]
     },
     "execution_count": 93,
     "metadata": {},
     "output_type": "execute_result"
    }
   ],
   "source": [
    "gbc.fit(X_train, y_train)"
   ]
  },
  {
   "cell_type": "code",
   "execution_count": 96,
   "metadata": {},
   "outputs": [
    {
     "data": {
      "text/plain": [
       "0.927"
      ]
     },
     "execution_count": 96,
     "metadata": {},
     "output_type": "execute_result"
    }
   ],
   "source": [
    "accuracy_score(gbc.predict(X_test), y_test)"
   ]
  },
  {
   "cell_type": "code",
   "execution_count": 135,
   "metadata": {},
   "outputs": [],
   "source": [
    "importances = gbc.feature_importances_"
   ]
  },
  {
   "cell_type": "code",
   "execution_count": 114,
   "metadata": {},
   "outputs": [
    {
     "data": {
      "text/plain": [
       "{'HP': 0.003231779596142668,\n",
       " 'Attack': 0.01613757469979539,\n",
       " 'Defense': 0.00039213673690252973,\n",
       " 'Sp. Atk': 0.0004862175258856173,\n",
       " 'Sp. Def': 0.00010457868221099295,\n",
       " 'Speed': 0.4695941179414308,\n",
       " 'ratio': 0.0,\n",
       " 'ratios': 0.0,\n",
       " 'Legendary': 0.0,\n",
       " 'Grass': 0.0,\n",
       " 'Fire': 3.527963207006243e-05,\n",
       " 'Water': 0.0,\n",
       " 'Bug': 0.0,\n",
       " 'Normal': 0.0,\n",
       " 'Poison': 0.005144454095927264,\n",
       " 'Electric': 0.0013368673572351295,\n",
       " 'Ground': 0.0,\n",
       " 'Fairy': 0.0,\n",
       " 'Fighting': 0.0,\n",
       " 'Psychic': 0.0004203876011966446,\n",
       " 'Rock': 0.0004568196672243945,\n",
       " 'Ghost': 0.0,\n",
       " 'Ice': 0.0018628765959865451,\n",
       " 'Dragon': 0.0008616806545044856,\n",
       " 'Dark': 0.0,\n",
       " 'Steel': 0.00015318750923856177,\n",
       " 'Flying': 2.499949333148248e-05,\n",
       " nan: 0.0005567812430760328}"
      ]
     },
     "execution_count": 114,
     "metadata": {},
     "output_type": "execute_result"
    }
   ],
   "source": [
    "d"
   ]
  },
  {
   "cell_type": "code",
   "execution_count": 115,
   "metadata": {},
   "outputs": [],
   "source": [
    "#TODO: Normalize numerical features and try a deep neural network (which should be better).\n",
    "#TODO: See if doing PCA or reducing the features in other ways helps"
   ]
  },
  {
   "cell_type": "code",
   "execution_count": 116,
   "metadata": {},
   "outputs": [],
   "source": [
    "import pandas as pd\n",
    "import os\n",
    "os.environ[\"CUDA_VISIBLE_DEVICES\"]=\"0\" \n",
    "import numpy as np\n",
    "from tensorflow.python.keras.backend import set_session\n",
    "import tensorflow as tf\n",
    "import tensorflow.keras.backend as K\n",
    "\n",
    "#####################################\n",
    "# configure tf session\n",
    "#####################################\n",
    "config = tf.ConfigProto()\n",
    "#config.gpu_options.per_process_gpu_memory_fraction = 1 # limit the fraction of GPU mem used\n",
    "config.gpu_options.allow_growth = True # allow dynamic allocation of GPU memory (instead of grabbing everything at the start)\n",
    "config.log_device_placement=False\n",
    "set_session(tf.Session(config=config))\n",
    "            "
   ]
  },
  {
   "cell_type": "code",
   "execution_count": 122,
   "metadata": {},
   "outputs": [],
   "source": [
    "from tensorflow.python.keras import models\n",
    "from tensorflow import keras\n",
    "from tensorflow.python.keras.layers import Dense\n",
    "from tensorflow.python.keras.layers import Dropout"
   ]
  },
  {
   "cell_type": "code",
   "execution_count": 159,
   "metadata": {},
   "outputs": [],
   "source": [
    "X_train = np.array(X_train)"
   ]
  },
  {
   "cell_type": "code",
   "execution_count": 182,
   "metadata": {},
   "outputs": [],
   "source": [
    "numerical = np.zeros((58), dtype = int)\n",
    "numerical[0:len(cols)]  = 1\n",
    "numerical = numerical[importances != 0]"
   ]
  },
  {
   "cell_type": "code",
   "execution_count": 160,
   "metadata": {},
   "outputs": [],
   "source": [
    "from sklearn.preprocessing import StandardScaler\n",
    "scaler =  StandardScaler()\n",
    "X_train_numerical = scaler.fit_transform(X_train[:, numerical])"
   ]
  },
  {
   "cell_type": "code",
   "execution_count": 181,
   "metadata": {},
   "outputs": [],
   "source": [
    "X_train_ = X_train[:, importances != 0]"
   ]
  },
  {
   "cell_type": "code",
   "execution_count": 194,
   "metadata": {},
   "outputs": [],
   "source": [
    "X_test = np.array(X_test)\n",
    "X_test_ = X_test[:, importances != 0]"
   ]
  },
  {
   "cell_type": "code",
   "execution_count": 183,
   "metadata": {},
   "outputs": [],
   "source": [
    "X_train_[:, numerical] = X_train_numerical"
   ]
  },
  {
   "cell_type": "code",
   "execution_count": 196,
   "metadata": {},
   "outputs": [],
   "source": [
    "X_test_numerical = scaler.transform(X_test_)"
   ]
  },
  {
   "cell_type": "code",
   "execution_count": 221,
   "metadata": {},
   "outputs": [],
   "source": [
    "dropout_rate = 0.5\n",
    "learning_rate = 0.000001\n",
    "units = 128\n",
    "\n",
    "model = models.Sequential()\n",
    "    \n",
    "#1 hidden layer\n",
    "model.add(Dense(units=units, kernel_initializer='random_uniform', input_dim=X_train_.shape[1], activation='relu'))\n",
    "\n",
    "model.add(Dropout(rate=dropout_rate))\n",
    "\n",
    "#Output layer\n",
    "layer = Dense(1,kernel_initializer='random_uniform', activation='sigmoid')\n",
    "model.add(layer)\n",
    "\n",
    "optimizer = tf.keras.optimizers.Adam(lr=learning_rate)\n",
    "\n",
    "model.compile(optimizer=optimizer,loss= 'binary_crossentropy', metrics=['accuracy'])"
   ]
  },
  {
   "cell_type": "code",
   "execution_count": 222,
   "metadata": {},
   "outputs": [
    {
     "name": "stdout",
     "output_type": "stream",
     "text": [
      "Train on 35000 samples, validate on 15000 samples\n",
      "Epoch 1/100\n",
      "35000/35000 [==============================] - 8s 217us/step - loss: 0.8398 - acc: 0.5308 - val_loss: 0.7284 - val_acc: 0.4175\n",
      "Epoch 2/100\n",
      "35000/35000 [==============================] - 7s 188us/step - loss: 0.7972 - acc: 0.5508 - val_loss: 0.6957 - val_acc: 0.5213\n",
      "Epoch 3/100\n",
      "35000/35000 [==============================] - 7s 187us/step - loss: 0.7589 - acc: 0.5732 - val_loss: 0.6703 - val_acc: 0.5971\n",
      "Epoch 4/100\n",
      "35000/35000 [==============================] - 6s 185us/step - loss: 0.7220 - acc: 0.5967 - val_loss: 0.6507 - val_acc: 0.6429\n",
      "Epoch 5/100\n",
      "35000/35000 [==============================] - 6s 185us/step - loss: 0.6998 - acc: 0.6101 - val_loss: 0.6351 - val_acc: 0.6574\n",
      "Epoch 6/100\n",
      "35000/35000 [==============================] - 7s 186us/step - loss: 0.6663 - acc: 0.6329 - val_loss: 0.6237 - val_acc: 0.6557\n",
      "Epoch 7/100\n",
      "35000/35000 [==============================] - 7s 188us/step - loss: 0.6526 - acc: 0.6429 - val_loss: 0.6132 - val_acc: 0.6561\n",
      "Epoch 8/100\n",
      "35000/35000 [==============================] - 7s 186us/step - loss: 0.6355 - acc: 0.6570 - val_loss: 0.6073 - val_acc: 0.6470\n",
      "Epoch 9/100\n",
      "35000/35000 [==============================] - 6s 184us/step - loss: 0.6116 - acc: 0.6758 - val_loss: 0.6007 - val_acc: 0.6477\n",
      "Epoch 10/100\n",
      "35000/35000 [==============================] - 7s 186us/step - loss: 0.5917 - acc: 0.6889 - val_loss: 0.5972 - val_acc: 0.6440\n",
      "Epoch 11/100\n",
      "35000/35000 [==============================] - 7s 186us/step - loss: 0.5797 - acc: 0.7007 - val_loss: 0.5936 - val_acc: 0.6436\n",
      "Epoch 12/100\n",
      "35000/35000 [==============================] - 6s 184us/step - loss: 0.5678 - acc: 0.7094 - val_loss: 0.5941 - val_acc: 0.6391\n",
      "Epoch 13/100\n",
      "35000/35000 [==============================] - 6s 184us/step - loss: 0.5552 - acc: 0.7213 - val_loss: 0.5950 - val_acc: 0.6365\n",
      "Epoch 14/100\n",
      "35000/35000 [==============================] - 6s 185us/step - loss: 0.5432 - acc: 0.7305 - val_loss: 0.5949 - val_acc: 0.6357\n",
      "Epoch 15/100\n",
      "35000/35000 [==============================] - 6s 185us/step - loss: 0.5341 - acc: 0.7360 - val_loss: 0.5967 - val_acc: 0.6340\n",
      "Epoch 16/100\n",
      "35000/35000 [==============================] - 7s 187us/step - loss: 0.5240 - acc: 0.7478 - val_loss: 0.5994 - val_acc: 0.6317\n",
      "Epoch 17/100\n",
      "35000/35000 [==============================] - 6s 185us/step - loss: 0.5158 - acc: 0.7547 - val_loss: 0.6025 - val_acc: 0.6304\n",
      "Epoch 18/100\n",
      "35000/35000 [==============================] - 6s 185us/step - loss: 0.5091 - acc: 0.7587 - val_loss: 0.6051 - val_acc: 0.6311\n",
      "Epoch 19/100\n",
      "35000/35000 [==============================] - 7s 187us/step - loss: 0.4969 - acc: 0.7703 - val_loss: 0.6121 - val_acc: 0.6262\n",
      "Epoch 20/100\n",
      "35000/35000 [==============================] - 7s 186us/step - loss: 0.4933 - acc: 0.7713 - val_loss: 0.6174 - val_acc: 0.6243\n",
      "Epoch 21/100\n",
      "35000/35000 [==============================] - 7s 186us/step - loss: 0.4917 - acc: 0.7737 - val_loss: 0.6203 - val_acc: 0.6245\n",
      "Epoch 22/100\n",
      "35000/35000 [==============================] - 7s 189us/step - loss: 0.4820 - acc: 0.7814 - val_loss: 0.6251 - val_acc: 0.6233\n",
      "Epoch 23/100\n",
      "35000/35000 [==============================] - 7s 188us/step - loss: 0.4794 - acc: 0.7846 - val_loss: 0.6333 - val_acc: 0.6210\n",
      "Epoch 24/100\n",
      "35000/35000 [==============================] - 7s 188us/step - loss: 0.4760 - acc: 0.7867 - val_loss: 0.6434 - val_acc: 0.6170\n",
      "Epoch 25/100\n",
      "35000/35000 [==============================] - 6s 186us/step - loss: 0.4725 - acc: 0.7904 - val_loss: 0.6530 - val_acc: 0.6134\n",
      "Epoch 26/100\n",
      "35000/35000 [==============================] - 7s 186us/step - loss: 0.4687 - acc: 0.7943 - val_loss: 0.6599 - val_acc: 0.6124\n",
      "Epoch 27/100\n",
      "35000/35000 [==============================] - 6s 185us/step - loss: 0.4637 - acc: 0.7949 - val_loss: 0.6674 - val_acc: 0.6109\n",
      "Epoch 28/100\n",
      "35000/35000 [==============================] - 6s 185us/step - loss: 0.4595 - acc: 0.8019 - val_loss: 0.6813 - val_acc: 0.6061\n",
      "Epoch 29/100\n",
      "35000/35000 [==============================] - 7s 188us/step - loss: 0.4617 - acc: 0.7972 - val_loss: 0.6933 - val_acc: 0.6026\n",
      "Epoch 30/100\n",
      "35000/35000 [==============================] - 7s 187us/step - loss: 0.4542 - acc: 0.8051 - val_loss: 0.7002 - val_acc: 0.6018\n",
      "Epoch 31/100\n",
      "35000/35000 [==============================] - 7s 188us/step - loss: 0.4533 - acc: 0.8039 - val_loss: 0.7116 - val_acc: 0.5985\n",
      "Epoch 32/100\n",
      "35000/35000 [==============================] - 7s 187us/step - loss: 0.4485 - acc: 0.8111 - val_loss: 0.7251 - val_acc: 0.5952\n",
      "Epoch 33/100\n",
      "35000/35000 [==============================] - 6s 185us/step - loss: 0.4457 - acc: 0.8107 - val_loss: 0.7359 - val_acc: 0.5939\n",
      "Epoch 34/100\n",
      "35000/35000 [==============================] - 7s 187us/step - loss: 0.4454 - acc: 0.8131 - val_loss: 0.7492 - val_acc: 0.5904\n",
      "Epoch 35/100\n",
      "35000/35000 [==============================] - 7s 189us/step - loss: 0.4451 - acc: 0.8138 - val_loss: 0.7639 - val_acc: 0.5876\n",
      "Epoch 36/100\n",
      "35000/35000 [==============================] - 7s 186us/step - loss: 0.4403 - acc: 0.8157 - val_loss: 0.7809 - val_acc: 0.5847\n",
      "Epoch 37/100\n",
      "35000/35000 [==============================] - 7s 188us/step - loss: 0.4379 - acc: 0.8176 - val_loss: 0.7894 - val_acc: 0.5839\n",
      "Epoch 38/100\n",
      "35000/35000 [==============================] - 7s 186us/step - loss: 0.4375 - acc: 0.8169 - val_loss: 0.7997 - val_acc: 0.5821\n",
      "Epoch 39/100\n",
      "35000/35000 [==============================] - 6s 185us/step - loss: 0.4357 - acc: 0.8205 - val_loss: 0.8174 - val_acc: 0.5785\n",
      "Epoch 40/100\n",
      "35000/35000 [==============================] - 7s 187us/step - loss: 0.4313 - acc: 0.8227 - val_loss: 0.8305 - val_acc: 0.5767\n",
      "Epoch 41/100\n",
      "35000/35000 [==============================] - 6s 185us/step - loss: 0.4332 - acc: 0.8222 - val_loss: 0.8450 - val_acc: 0.5747\n",
      "Epoch 42/100\n",
      "35000/35000 [==============================] - 7s 187us/step - loss: 0.4321 - acc: 0.8235 - val_loss: 0.8601 - val_acc: 0.5724\n",
      "Epoch 43/100\n",
      "35000/35000 [==============================] - 7s 186us/step - loss: 0.4264 - acc: 0.8267 - val_loss: 0.8712 - val_acc: 0.5715\n",
      "Epoch 44/100\n",
      "35000/35000 [==============================] - 6s 185us/step - loss: 0.4251 - acc: 0.8281 - val_loss: 0.8928 - val_acc: 0.5681\n",
      "Epoch 45/100\n",
      "35000/35000 [==============================] - 6s 184us/step - loss: 0.4244 - acc: 0.8282 - val_loss: 0.9052 - val_acc: 0.5673\n",
      "Epoch 46/100\n",
      "35000/35000 [==============================] - 7s 187us/step - loss: 0.4238 - acc: 0.8284 - val_loss: 0.9157 - val_acc: 0.5670\n",
      "Epoch 47/100\n",
      "35000/35000 [==============================] - 7s 187us/step - loss: 0.4225 - acc: 0.8306 - val_loss: 0.9284 - val_acc: 0.5663\n",
      "Epoch 48/100\n",
      "33472/35000 [===========================>..] - ETA: 0s - loss: 0.4208 - acc: 0.8332"
     ]
    },
    {
     "ename": "KeyboardInterrupt",
     "evalue": "",
     "output_type": "error",
     "traceback": [
      "\u001b[0;31m---------------------------------------------------------------------------\u001b[0m",
      "\u001b[0;31mKeyboardInterrupt\u001b[0m                         Traceback (most recent call last)",
      "\u001b[0;32m<ipython-input-222-02bcec1ddba7>\u001b[0m in \u001b[0;36m<module>\u001b[0;34m\u001b[0m\n\u001b[0;32m----> 1\u001b[0;31m \u001b[0mmodel\u001b[0m\u001b[0;34m.\u001b[0m\u001b[0mfit\u001b[0m\u001b[0;34m(\u001b[0m\u001b[0mX_train_\u001b[0m\u001b[0;34m,\u001b[0m \u001b[0my_train\u001b[0m\u001b[0;34m,\u001b[0m \u001b[0mvalidation_data\u001b[0m \u001b[0;34m=\u001b[0m \u001b[0;34m(\u001b[0m\u001b[0mX_test_\u001b[0m\u001b[0;34m,\u001b[0m \u001b[0my_test\u001b[0m\u001b[0;34m)\u001b[0m\u001b[0;34m,\u001b[0m \u001b[0mepochs\u001b[0m \u001b[0;34m=\u001b[0m \u001b[0;36m100\u001b[0m\u001b[0;34m)\u001b[0m\u001b[0;34m\u001b[0m\u001b[0m\n\u001b[0m",
      "\u001b[0;32m~/.conda/envs/venv3/lib/python3.6/site-packages/tensorflow/python/keras/engine/training.py\u001b[0m in \u001b[0;36mfit\u001b[0;34m(self, x, y, batch_size, epochs, verbose, callbacks, validation_split, validation_data, shuffle, class_weight, sample_weight, initial_epoch, steps_per_epoch, validation_steps, **kwargs)\u001b[0m\n\u001b[1;32m   1603\u001b[0m           \u001b[0minitial_epoch\u001b[0m\u001b[0;34m=\u001b[0m\u001b[0minitial_epoch\u001b[0m\u001b[0;34m,\u001b[0m\u001b[0;34m\u001b[0m\u001b[0m\n\u001b[1;32m   1604\u001b[0m           \u001b[0msteps_per_epoch\u001b[0m\u001b[0;34m=\u001b[0m\u001b[0msteps_per_epoch\u001b[0m\u001b[0;34m,\u001b[0m\u001b[0;34m\u001b[0m\u001b[0m\n\u001b[0;32m-> 1605\u001b[0;31m           validation_steps=validation_steps)\n\u001b[0m\u001b[1;32m   1606\u001b[0m \u001b[0;34m\u001b[0m\u001b[0m\n\u001b[1;32m   1607\u001b[0m   def evaluate(self,\n",
      "\u001b[0;32m~/.conda/envs/venv3/lib/python3.6/site-packages/tensorflow/python/keras/engine/training_arrays.py\u001b[0m in \u001b[0;36mfit_loop\u001b[0;34m(model, inputs, targets, sample_weights, batch_size, epochs, verbose, callbacks, val_inputs, val_targets, val_sample_weights, shuffle, initial_epoch, steps_per_epoch, validation_steps)\u001b[0m\n\u001b[1;32m    212\u001b[0m           \u001b[0mins_batch\u001b[0m\u001b[0;34m[\u001b[0m\u001b[0mi\u001b[0m\u001b[0;34m]\u001b[0m \u001b[0;34m=\u001b[0m \u001b[0mins_batch\u001b[0m\u001b[0;34m[\u001b[0m\u001b[0mi\u001b[0m\u001b[0;34m]\u001b[0m\u001b[0;34m.\u001b[0m\u001b[0mtoarray\u001b[0m\u001b[0;34m(\u001b[0m\u001b[0;34m)\u001b[0m\u001b[0;34m\u001b[0m\u001b[0m\n\u001b[1;32m    213\u001b[0m \u001b[0;34m\u001b[0m\u001b[0m\n\u001b[0;32m--> 214\u001b[0;31m         \u001b[0mouts\u001b[0m \u001b[0;34m=\u001b[0m \u001b[0mf\u001b[0m\u001b[0;34m(\u001b[0m\u001b[0mins_batch\u001b[0m\u001b[0;34m)\u001b[0m\u001b[0;34m\u001b[0m\u001b[0m\n\u001b[0m\u001b[1;32m    215\u001b[0m         \u001b[0;32mif\u001b[0m \u001b[0;32mnot\u001b[0m \u001b[0misinstance\u001b[0m\u001b[0;34m(\u001b[0m\u001b[0mouts\u001b[0m\u001b[0;34m,\u001b[0m \u001b[0mlist\u001b[0m\u001b[0;34m)\u001b[0m\u001b[0;34m:\u001b[0m\u001b[0;34m\u001b[0m\u001b[0m\n\u001b[1;32m    216\u001b[0m           \u001b[0mouts\u001b[0m \u001b[0;34m=\u001b[0m \u001b[0;34m[\u001b[0m\u001b[0mouts\u001b[0m\u001b[0;34m]\u001b[0m\u001b[0;34m\u001b[0m\u001b[0m\n",
      "\u001b[0;32m~/.conda/envs/venv3/lib/python3.6/site-packages/tensorflow/python/keras/backend.py\u001b[0m in \u001b[0;36m__call__\u001b[0;34m(self, inputs)\u001b[0m\n\u001b[1;32m   2976\u001b[0m \u001b[0;34m\u001b[0m\u001b[0m\n\u001b[1;32m   2977\u001b[0m     fetched = self._callable_fn(*array_vals,\n\u001b[0;32m-> 2978\u001b[0;31m                                 run_metadata=self.run_metadata)\n\u001b[0m\u001b[1;32m   2979\u001b[0m     \u001b[0mself\u001b[0m\u001b[0;34m.\u001b[0m\u001b[0m_call_fetch_callbacks\u001b[0m\u001b[0;34m(\u001b[0m\u001b[0mfetched\u001b[0m\u001b[0;34m[\u001b[0m\u001b[0;34m-\u001b[0m\u001b[0mlen\u001b[0m\u001b[0;34m(\u001b[0m\u001b[0mself\u001b[0m\u001b[0;34m.\u001b[0m\u001b[0m_fetches\u001b[0m\u001b[0;34m)\u001b[0m\u001b[0;34m:\u001b[0m\u001b[0;34m]\u001b[0m\u001b[0;34m)\u001b[0m\u001b[0;34m\u001b[0m\u001b[0m\n\u001b[1;32m   2980\u001b[0m     \u001b[0;32mreturn\u001b[0m \u001b[0mfetched\u001b[0m\u001b[0;34m[\u001b[0m\u001b[0;34m:\u001b[0m\u001b[0mlen\u001b[0m\u001b[0;34m(\u001b[0m\u001b[0mself\u001b[0m\u001b[0;34m.\u001b[0m\u001b[0moutputs\u001b[0m\u001b[0;34m)\u001b[0m\u001b[0;34m]\u001b[0m\u001b[0;34m\u001b[0m\u001b[0m\n",
      "\u001b[0;32m~/.conda/envs/venv3/lib/python3.6/site-packages/tensorflow/python/client/session.py\u001b[0m in \u001b[0;36m__call__\u001b[0;34m(self, *args, **kwargs)\u001b[0m\n\u001b[1;32m   1397\u001b[0m           ret = tf_session.TF_SessionRunCallable(\n\u001b[1;32m   1398\u001b[0m               \u001b[0mself\u001b[0m\u001b[0;34m.\u001b[0m\u001b[0m_session\u001b[0m\u001b[0;34m.\u001b[0m\u001b[0m_session\u001b[0m\u001b[0;34m,\u001b[0m \u001b[0mself\u001b[0m\u001b[0;34m.\u001b[0m\u001b[0m_handle\u001b[0m\u001b[0;34m,\u001b[0m \u001b[0margs\u001b[0m\u001b[0;34m,\u001b[0m \u001b[0mstatus\u001b[0m\u001b[0;34m,\u001b[0m\u001b[0;34m\u001b[0m\u001b[0m\n\u001b[0;32m-> 1399\u001b[0;31m               run_metadata_ptr)\n\u001b[0m\u001b[1;32m   1400\u001b[0m         \u001b[0;32mif\u001b[0m \u001b[0mrun_metadata\u001b[0m\u001b[0;34m:\u001b[0m\u001b[0;34m\u001b[0m\u001b[0m\n\u001b[1;32m   1401\u001b[0m           \u001b[0mproto_data\u001b[0m \u001b[0;34m=\u001b[0m \u001b[0mtf_session\u001b[0m\u001b[0;34m.\u001b[0m\u001b[0mTF_GetBuffer\u001b[0m\u001b[0;34m(\u001b[0m\u001b[0mrun_metadata_ptr\u001b[0m\u001b[0;34m)\u001b[0m\u001b[0;34m\u001b[0m\u001b[0m\n",
      "\u001b[0;31mKeyboardInterrupt\u001b[0m: "
     ]
    }
   ],
   "source": [
    "model.fit(X_train_, y_train, validation_data = (X_test_, y_test), epochs = 100)"
   ]
  }
 ],
 "metadata": {
  "kernelspec": {
   "display_name": "Python 3",
   "language": "python",
   "name": "python3"
  }
 },
 "nbformat": 4,
 "nbformat_minor": 2
}
